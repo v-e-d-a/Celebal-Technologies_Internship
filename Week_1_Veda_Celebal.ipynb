{
  "nbformat": 4,
  "nbformat_minor": 0,
  "metadata": {
    "colab": {
      "provenance": []
    },
    "kernelspec": {
      "name": "python3",
      "display_name": "Python 3"
    },
    "language_info": {
      "name": "python"
    }
  },
  "cells": [
    {
      "cell_type": "code",
      "execution_count": 1,
      "metadata": {
        "colab": {
          "base_uri": "https://localhost:8080/"
        },
        "id": "KpWbC6lAAHA7",
        "outputId": "8a7244e2-36f3-4299-fec4-4d8ed6d976a6"
      },
      "outputs": [
        {
          "output_type": "stream",
          "name": "stdout",
          "text": [
            "* \n",
            "* * \n",
            "* * * \n",
            "* * * * \n",
            "* * * * * \n",
            "* * * * * * \n"
          ]
        }
      ],
      "source": [
        "def lower_triangular(n):\n",
        "    for i in range(1, n + 1):\n",
        "        for j in range(1, i + 1):\n",
        "            print('*', end=' ')\n",
        "        print()\n",
        "\n",
        "# Example usage\n",
        "lower_triangular(6)"
      ]
    },
    {
      "cell_type": "code",
      "source": [
        "def upper_triangular(n):\n",
        "    for i in range(n):\n",
        "        for j in range(n):\n",
        "            if j < i:\n",
        "                print(' ', end=' ')\n",
        "            else:\n",
        "                print('*', end=' ')\n",
        "        print()\n",
        "\n",
        "# Example usage\n",
        "upper_triangular(6)"
      ],
      "metadata": {
        "colab": {
          "base_uri": "https://localhost:8080/"
        },
        "id": "5Beyw3byAXMM",
        "outputId": "27e6f638-c75d-4372-e37b-cd136bd93c9d"
      },
      "execution_count": 2,
      "outputs": [
        {
          "output_type": "stream",
          "name": "stdout",
          "text": [
            "* * * * * * \n",
            "  * * * * * \n",
            "    * * * * \n",
            "      * * * \n",
            "        * * \n",
            "          * \n"
          ]
        }
      ]
    },
    {
      "cell_type": "code",
      "source": [
        "def pyramid(n):\n",
        "    for i in range(n):\n",
        "        # Print leading spaces\n",
        "        for j in range(n - i - 1):\n",
        "            print(' ', end=' ')\n",
        "        # Print stars\n",
        "        for k in range(2 * i + 1):\n",
        "            print('*', end=' ')\n",
        "        print()\n",
        "\n",
        "# Example usage\n",
        "pyramid(6)"
      ],
      "metadata": {
        "colab": {
          "base_uri": "https://localhost:8080/"
        },
        "id": "NYM46m05Ac-2",
        "outputId": "994a88f0-3971-4a6d-d597-e941a6c8b751"
      },
      "execution_count": 3,
      "outputs": [
        {
          "output_type": "stream",
          "name": "stdout",
          "text": [
            "          * \n",
            "        * * * \n",
            "      * * * * * \n",
            "    * * * * * * * \n",
            "  * * * * * * * * * \n",
            "* * * * * * * * * * * \n"
          ]
        }
      ]
    },
    {
      "cell_type": "code",
      "source": [
        "if __name__ == \"__main__\":\n",
        "    n = 6\n",
        "    print(\"Lower Triangular Pattern:\")\n",
        "    lower_triangular(n)\n",
        "    print(\"\\nUpper Triangular Pattern:\")\n",
        "    upper_triangular(n)\n",
        "    print(\"\\nPyramid Pattern:\")\n",
        "    pyramid(n)"
      ],
      "metadata": {
        "colab": {
          "base_uri": "https://localhost:8080/"
        },
        "id": "vc3Y3NTIAio1",
        "outputId": "761f59ca-2e70-4c2e-a224-fa5bb7ffd92c"
      },
      "execution_count": 4,
      "outputs": [
        {
          "output_type": "stream",
          "name": "stdout",
          "text": [
            "Lower Triangular Pattern:\n",
            "* \n",
            "* * \n",
            "* * * \n",
            "* * * * \n",
            "* * * * * \n",
            "* * * * * * \n",
            "\n",
            "Upper Triangular Pattern:\n",
            "* * * * * * \n",
            "  * * * * * \n",
            "    * * * * \n",
            "      * * * \n",
            "        * * \n",
            "          * \n",
            "\n",
            "Pyramid Pattern:\n",
            "          * \n",
            "        * * * \n",
            "      * * * * * \n",
            "    * * * * * * * \n",
            "  * * * * * * * * * \n",
            "* * * * * * * * * * * \n"
          ]
        }
      ]
    }
  ]
}